{
 "cells": [
  {
   "cell_type": "markdown",
   "id": "fb06be3a-e64a-4a4b-a72f-32607805681a",
   "metadata": {},
   "source": [
    "## Shubham Tade : \n",
    "# Project: COVID-19 Disease image classification using CNN"
   ]
  },
  {
   "cell_type": "code",
   "execution_count": 1,
   "id": "4c34b0e8-ab12-4b96-a865-e14a67e51020",
   "metadata": {},
   "outputs": [],
   "source": [
    "import numpy as np \n",
    "import matplotlib.pyplot as plt\n",
    "import tensorflow as tf\n",
    "import warnings\n",
    "warnings.filterwarnings('ignore')"
   ]
  },
  {
   "cell_type": "code",
   "execution_count": 2,
   "id": "b25ea372-ea40-4d42-b0f1-af19c8d00794",
   "metadata": {},
   "outputs": [],
   "source": [
    "from tensorflow.keras.models import Sequential\n",
    "from tensorflow.keras.preprocessing.image import load_img , img_to_array , ImageDataGenerator\n",
    "from tensorflow.keras.layers import Conv2D , MaxPool2D , Flatten , Dense"
   ]
  },
  {
   "cell_type": "code",
   "execution_count": 3,
   "id": "2367c9d5-9ad1-4ccf-b29a-a18611d1d790",
   "metadata": {},
   "outputs": [],
   "source": [
    "train_path = r\"C:\\Users\\Shubham Tade\\Desktop\\Projects\\Ai project\\Image Classification With CNN\\Covid19-dataset\\train\"\n",
    "test_path = r\"C:\\Users\\Shubham Tade\\Desktop\\Projects\\Ai project\\Image Classification With CNN\\Covid19-dataset\\test\"\n",
    "validation_path = r\"C:\\Users\\Shubham Tade\\Desktop\\Projects\\Ai project\\Image Classification With CNN\\Covid19-dataset\\validation\""
   ]
  },
  {
   "cell_type": "code",
   "execution_count": 4,
   "id": "78b8c746-606e-4700-baaf-df9d40fb0f7e",
   "metadata": {},
   "outputs": [],
   "source": [
    "img_width , img_height = 512 , 512"
   ]
  },
  {
   "cell_type": "code",
   "execution_count": 5,
   "id": "680a0309-cb5b-4b87-9c12-b249554384dc",
   "metadata": {},
   "outputs": [],
   "source": [
    "batch_size = 50"
   ]
  },
  {
   "cell_type": "code",
   "execution_count": 6,
   "id": "4a0b2fe7-e3af-4cc1-b41c-3cc2e17fa671",
   "metadata": {},
   "outputs": [],
   "source": [
    "train_dataset = ImageDataGenerator(rescale=1.0/255,\n",
    "                                  rotation_range=20,\n",
    "                                   shear_range=0.2,\n",
    "                                   width_shift_range=0.2,\n",
    "                                   height_shift_range=0.2,\n",
    "                                   zoom_range=0.2,\n",
    "                                   horizontal_flip=True                                 \n",
    "                                   )\n"
   ]
  },
  {
   "cell_type": "code",
   "execution_count": 7,
   "id": "4d47a668-23cd-4e46-81e7-9d6294332780",
   "metadata": {},
   "outputs": [],
   "source": [
    "val_dataset = ImageDataGenerator(rescale=1.0/255)"
   ]
  },
  {
   "cell_type": "code",
   "execution_count": 8,
   "id": "18b1f2d2-a744-4097-b310-b636b61ae178",
   "metadata": {},
   "outputs": [],
   "source": [
    "test_dataset = ImageDataGenerator(rescale=1.0/255)"
   ]
  },
  {
   "cell_type": "code",
   "execution_count": 9,
   "id": "e61c928a-83b3-49e2-9835-f8d51d1f8958",
   "metadata": {},
   "outputs": [
    {
     "name": "stdout",
     "output_type": "stream",
     "text": [
      "Found 251 images belonging to 3 classes.\n"
     ]
    }
   ],
   "source": [
    "train_img = train_dataset.flow_from_directory( train_path ,target_size=(img_width,img_height) , batch_size=batch_size , class_mode='categorical')"
   ]
  },
  {
   "cell_type": "code",
   "execution_count": 10,
   "id": "df659cb9-2e5c-4ad3-90f7-0fee5bc60b0c",
   "metadata": {},
   "outputs": [
    {
     "name": "stdout",
     "output_type": "stream",
     "text": [
      "Found 31 images belonging to 3 classes.\n"
     ]
    }
   ],
   "source": [
    "test_img = test_dataset.flow_from_directory(test_path , target_size=(img_width,img_height) , batch_size=batch_size , class_mode='categorical')"
   ]
  },
  {
   "cell_type": "code",
   "execution_count": 11,
   "id": "7f2fa28e-3fdf-4a71-b22c-cec508cb2fc4",
   "metadata": {},
   "outputs": [
    {
     "name": "stdout",
     "output_type": "stream",
     "text": [
      "Found 35 images belonging to 3 classes.\n"
     ]
    }
   ],
   "source": [
    "val_img = val_dataset.flow_from_directory(validation_path , target_size=(img_width,img_height) , batch_size=batch_size , class_mode='categorical')"
   ]
  },
  {
   "cell_type": "code",
   "execution_count": 12,
   "id": "6d7a0994-d576-40dc-abe5-93492aed56e6",
   "metadata": {},
   "outputs": [
    {
     "data": {
      "text/plain": [
       "{'Covid': 0, 'Normal': 1, 'Viral Pneumonia': 2}"
      ]
     },
     "execution_count": 12,
     "metadata": {},
     "output_type": "execute_result"
    }
   ],
   "source": [
    "train_img.class_indices"
   ]
  },
  {
   "cell_type": "code",
   "execution_count": 13,
   "id": "64b64064-f97e-448d-8632-a900ffb8eb31",
   "metadata": {},
   "outputs": [],
   "source": [
    "classes = ['Covid' , 'Normal' , 'Viral Pneumonia']"
   ]
  },
  {
   "cell_type": "code",
   "execution_count": 14,
   "id": "c91f0490-dcd3-4877-a01b-6e6f6d006d74",
   "metadata": {},
   "outputs": [],
   "source": [
    "model = Sequential([\n",
    "\n",
    "    Conv2D(16,(3,3), activation='relu',input_shape=(img_width,img_height,3)),\n",
    "    Conv2D(32,(3,3) , activation='relu'),\n",
    "    MaxPool2D(pool_size=(2,2)),\n",
    "    Conv2D(64,(3,3),activation='relu'),\n",
    "    Conv2D(64,(3,3),activation='relu'),\n",
    "    MaxPool2D(pool_size=(2,2)),\n",
    "    Flatten(),\n",
    "    Dense(100,activation='relu'),\n",
    "    Dense(70,activation='relu'),\n",
    "    Dense(50,activation='relu'),\n",
    "    Dense(30,activation='relu'),\n",
    "    Dense(3,activation='softmax')\n",
    "\n",
    "\n",
    "    \n",
    "])"
   ]
  },
  {
   "cell_type": "code",
   "execution_count": 15,
   "id": "5395f62f-0c11-424d-996a-1b05b2877982",
   "metadata": {},
   "outputs": [],
   "source": [
    "model.compile(optimizer='adam' , loss='categorical_crossentropy' , metrics=['accuracy'])"
   ]
  },
  {
   "cell_type": "code",
   "execution_count": 16,
   "id": "e47c4e70-2c17-4742-b115-5d9cdf0289b0",
   "metadata": {},
   "outputs": [
    {
     "name": "stdout",
     "output_type": "stream",
     "text": [
      "Epoch 1/8\n",
      "\u001b[1m6/6\u001b[0m \u001b[32m━━━━━━━━━━━━━━━━━━━━\u001b[0m\u001b[37m\u001b[0m \u001b[1m410s\u001b[0m 81s/step - accuracy: 0.3614 - loss: 4.3153 - val_accuracy: 0.3429 - val_loss: 1.0540\n",
      "Epoch 2/8\n",
      "\u001b[1m6/6\u001b[0m \u001b[32m━━━━━━━━━━━━━━━━━━━━\u001b[0m\u001b[37m\u001b[0m \u001b[1m409s\u001b[0m 69s/step - accuracy: 0.4307 - loss: 1.0372 - val_accuracy: 0.6286 - val_loss: 0.8963\n",
      "Epoch 3/8\n",
      "\u001b[1m6/6\u001b[0m \u001b[32m━━━━━━━━━━━━━━━━━━━━\u001b[0m\u001b[37m\u001b[0m \u001b[1m426s\u001b[0m 84s/step - accuracy: 0.5590 - loss: 1.0883 - val_accuracy: 0.3429 - val_loss: 1.1062\n",
      "Epoch 4/8\n",
      "\u001b[1m6/6\u001b[0m \u001b[32m━━━━━━━━━━━━━━━━━━━━\u001b[0m\u001b[37m\u001b[0m \u001b[1m446s\u001b[0m 72s/step - accuracy: 0.5009 - loss: 0.9815 - val_accuracy: 0.6571 - val_loss: 0.9442\n",
      "Epoch 5/8\n",
      "\u001b[1m6/6\u001b[0m \u001b[32m━━━━━━━━━━━━━━━━━━━━\u001b[0m\u001b[37m\u001b[0m \u001b[1m404s\u001b[0m 65s/step - accuracy: 0.6858 - loss: 0.7945 - val_accuracy: 0.4857 - val_loss: 0.9815\n",
      "Epoch 6/8\n",
      "\u001b[1m6/6\u001b[0m \u001b[32m━━━━━━━━━━━━━━━━━━━━\u001b[0m\u001b[37m\u001b[0m \u001b[1m475s\u001b[0m 75s/step - accuracy: 0.6283 - loss: 0.8136 - val_accuracy: 0.6857 - val_loss: 0.7177\n",
      "Epoch 7/8\n",
      "\u001b[1m6/6\u001b[0m \u001b[32m━━━━━━━━━━━━━━━━━━━━\u001b[0m\u001b[37m\u001b[0m \u001b[1m451s\u001b[0m 73s/step - accuracy: 0.7310 - loss: 0.5928 - val_accuracy: 0.6857 - val_loss: 0.8653\n",
      "Epoch 8/8\n",
      "\u001b[1m6/6\u001b[0m \u001b[32m━━━━━━━━━━━━━━━━━━━━\u001b[0m\u001b[37m\u001b[0m \u001b[1m450s\u001b[0m 72s/step - accuracy: 0.7820 - loss: 0.5349 - val_accuracy: 0.6000 - val_loss: 0.7149\n"
     ]
    }
   ],
   "source": [
    "history1 = model.fit(train_img ,epochs=8 , validation_data=val_img)"
   ]
  },
  {
   "cell_type": "code",
   "execution_count": 32,
   "id": "27aba1be-5c92-402b-a921-337a431bd2ca",
   "metadata": {},
   "outputs": [
    {
     "data": {
      "image/png": "[encoded data removed]",
      "text/plain": [
       "<Figure size 640x480 with 1 Axes>"
      ]
     },
     "metadata": {},
     "output_type": "display_data"
    }
   ],
   "source": [
    "plt.plot(history1.history['loss'] , label='Training Loss')\n",
    "plt.plot(history1.history['val_loss'] , label='Test Loss')\n",
    "plt.legend()\n",
    "plt.xlabel('epochs')\n",
    "plt.ylabel('loss')\n",
    "plt.title('Training & testing loss')\n",
    "plt.show()\n"
   ]
  },
  {
   "cell_type": "code",
   "execution_count": 33,
   "id": "3bf8531a-3776-462a-9c8b-334e511298de",
   "metadata": {},
   "outputs": [
    {
     "data": {
      "image/png": "[encoded data removed]",
      "text/plain": [
       "<Figure size 640x480 with 1 Axes>"
      ]
     },
     "metadata": {},
     "output_type": "display_data"
    }
   ],
   "source": [
    "plt.plot(history1.history['accuracy'] , label='Training accuracy')\n",
    "plt.plot(history1.history['val_accuracy'] , label = 'Test accuracy')\n",
    "plt.legend()\n",
    "plt.xlabel('eopchs')\n",
    "plt.ylabel('accuracy')\n",
    "plt.title('Training & Testing accuracy')\n",
    "plt.show()"
   ]
  },
  {
   "cell_type": "code",
   "execution_count": 20,
   "id": "6d7b90f1-95ba-4d80-8d83-72893dd4c210",
   "metadata": {},
   "outputs": [],
   "source": [
    "def predict(path):\n",
    "    img = load_img(path , target_size = (512,512,3))\n",
    "    img_arr = img_to_array(img)\n",
    "    norm= img_arr/255.0\n",
    "    flat = np.expand_dims(norm , axis=0)\n",
    "    pred = model.predict(flat)[0]\n",
    "    clas = classes[np.argmax(pred)]\n",
    "    return clas"
   ]
  },
  {
   "cell_type": "code",
   "execution_count": 21,
   "id": "6c3e9953-3293-485f-9f3f-da83978baf77",
   "metadata": {},
   "outputs": [
    {
     "name": "stdout",
     "output_type": "stream",
     "text": [
      "\u001b[1m1/1\u001b[0m \u001b[32m━━━━━━━━━━━━━━━━━━━━\u001b[0m\u001b[37m\u001b[0m \u001b[1m1s\u001b[0m 697ms/step\n"
     ]
    },
    {
     "data": {
      "text/plain": [
       "'Covid'"
      ]
     },
     "execution_count": 21,
     "metadata": {},
     "output_type": "execute_result"
    }
   ],
   "source": [
    "predict(r\"C:\\Users\\Shubham Tade\\Desktop\\Projects\\Ai project\\Image Classification With CNN\\Covid19-dataset\\test\\Covid\\094.png\")"
   ]
  },
  {
   "cell_type": "code",
   "execution_count": 24,
   "id": "aa7345c4-03ca-49cc-9f31-35733cee1b9b",
   "metadata": {},
   "outputs": [
    {
     "name": "stdout",
     "output_type": "stream",
     "text": [
      "\u001b[1m1/1\u001b[0m \u001b[32m━━━━━━━━━━━━━━━━━━━━\u001b[0m\u001b[37m\u001b[0m \u001b[1m0s\u001b[0m 210ms/step\n"
     ]
    },
    {
     "data": {
      "text/plain": [
       "'Covid'"
      ]
     },
     "execution_count": 24,
     "metadata": {},
     "output_type": "execute_result"
    }
   ],
   "source": [
    "predict(r\"C:\\Users\\Shubham Tade\\Desktop\\Projects\\Ai project\\Image Classification With CNN\\Covid19-dataset\\test\\Covid\\094.png\")"
   ]
  },
  {
   "cell_type": "code",
   "execution_count": 25,
   "id": "0e39bc9b-42c9-4327-b25c-97269ccae179",
   "metadata": {},
   "outputs": [
    {
     "name": "stdout",
     "output_type": "stream",
     "text": [
      "\u001b[1m1/1\u001b[0m \u001b[32m━━━━━━━━━━━━━━━━━━━━\u001b[0m\u001b[37m\u001b[0m \u001b[1m0s\u001b[0m 195ms/step\n"
     ]
    },
    {
     "data": {
      "text/plain": [
       "'Normal'"
      ]
     },
     "execution_count": 25,
     "metadata": {},
     "output_type": "execute_result"
    }
   ],
   "source": [
    "predict(r\"C:\\Users\\Shubham Tade\\Desktop\\Projects\\Ai project\\Image Classification With CNN\\Covid19-dataset\\test\\Normal\\0116.jpeg\")"
   ]
  },
  {
   "cell_type": "code",
   "execution_count": 26,
   "id": "8297cc9a-0038-44a9-9c4a-63e362b25b30",
   "metadata": {},
   "outputs": [
    {
     "name": "stdout",
     "output_type": "stream",
     "text": [
      "\u001b[1m1/1\u001b[0m \u001b[32m━━━━━━━━━━━━━━━━━━━━\u001b[0m\u001b[37m\u001b[0m \u001b[1m0s\u001b[0m 203ms/step\n"
     ]
    },
    {
     "data": {
      "text/plain": [
       "'Viral Pneumonia'"
      ]
     },
     "execution_count": 26,
     "metadata": {},
     "output_type": "execute_result"
    }
   ],
   "source": [
    "predict(r\"C:\\Users\\Shubham Tade\\Desktop\\Projects\\Ai project\\Image Classification With CNN\\Covid19-dataset\\test\\Viral Pneumonia\\0114.jpeg\")"
   ]
  },
  {
   "cell_type": "code",
   "execution_count": 27,
   "id": "ecf960d6-0140-4f62-9d45-3ec0dfb94596",
   "metadata": {},
   "outputs": [
    {
     "name": "stdout",
     "output_type": "stream",
     "text": [
      "\u001b[1m1/1\u001b[0m \u001b[32m━━━━━━━━━━━━━━━━━━━━\u001b[0m\u001b[37m\u001b[0m \u001b[1m0s\u001b[0m 182ms/step\n"
     ]
    },
    {
     "data": {
      "text/plain": [
       "'Normal'"
      ]
     },
     "execution_count": 27,
     "metadata": {},
     "output_type": "execute_result"
    }
   ],
   "source": [
    "predict(r\"C:\\Users\\Shubham Tade\\Desktop\\Projects\\Ai project\\Image Classification With CNN\\Covid19-dataset\\test\\Normal\\0122.jpeg\")"
   ]
  },
  {
   "cell_type": "markdown",
   "id": "e34d5fc4-796c-45ac-999a-d78c1cd18291",
   "metadata": {},
   "source": [
    "## the model perform and predict the output very well"
   ]
  },
  {
   "cell_type": "code",
   "execution_count": 28,
   "id": "fcd78386-1596-4786-9820-1f08b7a58ece",
   "metadata": {},
   "outputs": [],
   "source": [
    "from joblib import dump"
   ]
  },
  {
   "cell_type": "code",
   "execution_count": 30,
   "id": "4a44417e-c191-4020-b7c2-d0e9e006e56e",
   "metadata": {},
   "outputs": [
    {
     "data": {
      "text/plain": [
       "['Covid_19_image_classification_project.joblib']"
      ]
     },
     "execution_count": 30,
     "metadata": {},
     "output_type": "execute_result"
    }
   ],
   "source": [
    "dump(model, 'Covid_19_image_classification_project.joblib')"
   ]
  },
  {
   "cell_type": "markdown",
   "id": "c54c69d2-59d9-428e-9de5-794974c1380d",
   "metadata": {},
   "source": [
    "## dump (save) the model "
   ]
  },
  {
   "cell_type": "code",
   "execution_count": 45,
   "id": "d80ae634-b649-4a1a-a3b1-940e39990487",
   "metadata": {},
   "outputs": [],
   "source": [
    "import joblib\n",
    "from joblib import load"
   ]
  },
  {
   "cell_type": "code",
   "execution_count": null,
   "id": "9c7472e5-6351-49a8-8701-fee22e439229",
   "metadata": {},
   "outputs": [],
   "source": []
  }
 ],
 "metadata": {
  "kernelspec": {
   "display_name": "Python 3 (ipykernel)",
   "language": "python",
   "name": "python3"
  },
  "language_info": {
   "codemirror_mode": {
    "name": "ipython",
    "version": 3
   },
   "file_extension": ".py",
   "mimetype": "text/x-python",
   "name": "python",
   "nbconvert_exporter": "python",
   "pygments_lexer": "ipython3",
   "version": "3.12.2"
  }
 },
 "nbformat": 4,
 "nbformat_minor": 5
}
